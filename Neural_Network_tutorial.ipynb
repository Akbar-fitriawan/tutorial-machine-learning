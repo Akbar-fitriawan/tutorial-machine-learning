{
  "nbformat": 4,
  "nbformat_minor": 0,
  "metadata": {
    "colab": {
      "provenance": [],
      "authorship_tag": "ABX9TyM5B+uK0H6PoJHa4AuhpzSt",
      "include_colab_link": true
    },
    "kernelspec": {
      "name": "python3",
      "display_name": "Python 3"
    },
    "language_info": {
      "name": "python"
    }
  },
  "cells": [
    {
      "cell_type": "markdown",
      "metadata": {
        "id": "view-in-github",
        "colab_type": "text"
      },
      "source": [
        "<a href=\"https://colab.research.google.com/github/Akbar-fitriawan/tutorial-machine-learning/blob/main/Neural_Network_tutorial.ipynb\" target=\"_parent\"><img src=\"https://colab.research.google.com/assets/colab-badge.svg\" alt=\"Open In Colab\"/></a>"
      ]
    },
    {
      "cell_type": "code",
      "execution_count": 100,
      "metadata": {
        "id": "ZJEFS0rs0SU3"
      },
      "outputs": [],
      "source": [
        "%matplotlib inline\n",
        "import numpy as np\n",
        "import pandas as pd\n",
        "from sklearn.utils import shuffle\n",
        "import matplotlib.pyplot as plt\n",
        "\n"
      ]
    },
    {
      "cell_type": "markdown",
      "source": [
        "# Generate data"
      ],
      "metadata": {
        "id": "OCQNj8fx1TJW"
      }
    },
    {
      "cell_type": "markdown",
      "source": [
        "### Data otong"
      ],
      "metadata": {
        "id": "NzAEsjMg1Yh2"
      }
    },
    {
      "cell_type": "code",
      "source": [
        "# Tinggi badan\n",
        "x1 = np.array([18 + 1*np.random.randn() for i in range(1,100)])\n",
        "# Berat badan\n",
        "x2 = np.array([5 + 1*np.random.randn() for i in range(1,100)])\n",
        "# status otong\n",
        "y1 = np.array([1 for i in range(1,100)])\n",
        "# status ucup\n",
        "y2 = np.array([0 for i in range(1,100)])\n",
        "\n",
        "# label\n",
        "label = [\"otong\" for i in range(1,100)]\n",
        "\n",
        "# data compilasi\n",
        "data_otong = {\n",
        "    'x1':x1,\n",
        "    'x2':x2,\n",
        "    'y1':y1,\n",
        "    'y2':y2,\n",
        "    'label':label,\n",
        "}\n",
        "\n",
        "# data frame\n",
        "data_frame_1 = pd.DataFrame(data=data_otong)"
      ],
      "metadata": {
        "id": "uyCPpZgW1NLi"
      },
      "execution_count": 101,
      "outputs": []
    },
    {
      "cell_type": "code",
      "source": [
        "print(data_frame_1)"
      ],
      "metadata": {
        "colab": {
          "base_uri": "https://localhost:8080/"
        },
        "id": "NR9K9JBK18_V",
        "outputId": "726d6f4b-3d35-4fa8-e584-8906a42bd939"
      },
      "execution_count": 102,
      "outputs": [
        {
          "output_type": "stream",
          "name": "stdout",
          "text": [
            "           x1        x2  y1  y2  label\n",
            "0   17.191187  5.464795   1   0  otong\n",
            "1   19.521436  5.966164   1   0  otong\n",
            "2   17.414459  4.560344   1   0  otong\n",
            "3   17.709961  5.033290   1   0  otong\n",
            "4   18.828073  3.384387   1   0  otong\n",
            "..        ...       ...  ..  ..    ...\n",
            "94  19.458123  4.226913   1   0  otong\n",
            "95  18.003994  6.310184   1   0  otong\n",
            "96  18.223802  5.004231   1   0  otong\n",
            "97  18.694709  4.782532   1   0  otong\n",
            "98  19.623010  4.181536   1   0  otong\n",
            "\n",
            "[99 rows x 5 columns]\n"
          ]
        }
      ]
    },
    {
      "cell_type": "markdown",
      "source": [
        "### Data ucup"
      ],
      "metadata": {
        "id": "5HU5Zt566F0A"
      }
    },
    {
      "cell_type": "code",
      "source": [
        "# Tinggi badan\n",
        "x1 = np.array([10 + 1*np.random.randn() for i in range(1,100)])\n",
        "# Berat badan\n",
        "x2 = np.array([8 + 1*np.random.randn() for i in range(1,100)])\n",
        "# status otong\n",
        "y1 = np.array([0 for i in range(1,100)])\n",
        "# status ucup\n",
        "y2 = np.array([1 for i in range(1,100)])\n",
        "\n",
        "# label\n",
        "label = [\"ucup\" for i in range(1,100)]\n",
        "\n",
        "# data compilasi\n",
        "data_ucup = {\n",
        "    'x1':x1,\n",
        "    'x2':x2,\n",
        "    'y1':y1,\n",
        "    'y2':y2,\n",
        "    'label':label,\n",
        "}\n",
        "\n",
        "# data frame\n",
        "data_frame_2 = pd.DataFrame(data=data_ucup)"
      ],
      "metadata": {
        "id": "JNz2YB-W6JK9"
      },
      "execution_count": 103,
      "outputs": []
    },
    {
      "cell_type": "code",
      "source": [
        "print(data_frame_2)"
      ],
      "metadata": {
        "colab": {
          "base_uri": "https://localhost:8080/"
        },
        "id": "Ngk4PJl07Htk",
        "outputId": "9c8b7d60-d5aa-4d2f-80f6-78b0a1348410"
      },
      "execution_count": 104,
      "outputs": [
        {
          "output_type": "stream",
          "name": "stdout",
          "text": [
            "           x1        x2  y1  y2 label\n",
            "0   11.190376  8.794142   0   1  ucup\n",
            "1   10.637209  7.496479   0   1  ucup\n",
            "2   11.055909  8.202014   0   1  ucup\n",
            "3   10.838192  9.937283   0   1  ucup\n",
            "4    8.937638  7.687451   0   1  ucup\n",
            "..        ...       ...  ..  ..   ...\n",
            "94   9.741291  6.838116   0   1  ucup\n",
            "95  10.620312  6.782745   0   1  ucup\n",
            "96  11.805929  7.862217   0   1  ucup\n",
            "97  11.317867  8.077516   0   1  ucup\n",
            "98  10.440501  8.231423   0   1  ucup\n",
            "\n",
            "[99 rows x 5 columns]\n"
          ]
        }
      ]
    },
    {
      "cell_type": "markdown",
      "source": [
        "### Gabungkan data"
      ],
      "metadata": {
        "id": "KICVwUoC730E"
      }
    },
    {
      "cell_type": "code",
      "source": [
        "data_frame = pd.concat([data_frame_1,data_frame_2])\n",
        "data_frame = shuffle(data_frame)\n",
        "data_frame.reset_index(inplace=True,drop=True)\n",
        "print(data_frame)"
      ],
      "metadata": {
        "colab": {
          "base_uri": "https://localhost:8080/"
        },
        "id": "gdYEw9f876Jt",
        "outputId": "3a6b2b6e-88fe-4ee4-82f4-3acb7a98c5c6"
      },
      "execution_count": 105,
      "outputs": [
        {
          "output_type": "stream",
          "name": "stdout",
          "text": [
            "            x1        x2  y1  y2  label\n",
            "0    18.725540  4.219336   1   0  otong\n",
            "1    17.385327  7.536154   1   0  otong\n",
            "2    18.824352  4.943165   1   0  otong\n",
            "3    11.054796  6.316968   0   1   ucup\n",
            "4    16.509588  6.151097   1   0  otong\n",
            "..         ...       ...  ..  ..    ...\n",
            "193   8.720449  7.553195   0   1   ucup\n",
            "194  10.626369  6.942848   0   1   ucup\n",
            "195  10.819699  8.616931   0   1   ucup\n",
            "196  18.906633  4.205659   1   0  otong\n",
            "197  10.377556  9.356544   0   1   ucup\n",
            "\n",
            "[198 rows x 5 columns]\n"
          ]
        }
      ]
    },
    {
      "cell_type": "code",
      "source": [
        "plt.scatter(data_frame_1.x1,data_frame_1.x2)\n",
        "plt.scatter(data_frame_2.x1,data_frame_2.x2)\n",
        "plt.show()"
      ],
      "metadata": {
        "colab": {
          "base_uri": "https://localhost:8080/",
          "height": 430
        },
        "id": "Gh0VtODF-ad9",
        "outputId": "9a087cfa-ff97-433d-cafd-fd7397b51b2c"
      },
      "execution_count": 106,
      "outputs": [
        {
          "output_type": "display_data",
          "data": {
            "text/plain": [
              "<Figure size 640x480 with 1 Axes>"
            ],
            "image/png": "[encoded data removed]"
          },
          "metadata": {}
        }
      ]
    },
    {
      "cell_type": "markdown",
      "source": [
        "## Neural Networknya"
      ],
      "metadata": {
        "id": "46PFsTfSAoLm"
      }
    },
    {
      "cell_type": "code",
      "source": [
        "# fungsi sigmoid\n",
        "def sigmoid(x):\n",
        "  return 1/(1+np.exp(-x))"
      ],
      "metadata": {
        "id": "8j4AVSD4Hdh0"
      },
      "execution_count": 107,
      "outputs": []
    },
    {
      "cell_type": "markdown",
      "source": [
        "### 1. Matrix Wight\n",
        "\n",
        "\n"
      ],
      "metadata": {
        "id": "MsCL7hyRAuRA"
      }
    },
    {
      "cell_type": "code",
      "source": [
        "w11 = np.random.uniform(-0.01,0.01)\n",
        "w12 = np.random.uniform(-0.01,0.01)\n",
        "w21 = np.random.uniform(-0.01,0.01)\n",
        "w22 = np.random.uniform(-0.01,0.01)\n",
        "\n",
        "W = np.array([[w11,w12],[w21,w22]])\n",
        "\n",
        "print(W)"
      ],
      "metadata": {
        "colab": {
          "base_uri": "https://localhost:8080/"
        },
        "id": "mLfXtWvSAsYB",
        "outputId": "330167e0-06ea-4936-f9e3-4f8e230a3c7d"
      },
      "execution_count": 108,
      "outputs": [
        {
          "output_type": "stream",
          "name": "stdout",
          "text": [
            "[[0.00497811 0.00514776]\n",
            " [0.00299797 0.00858906]]\n"
          ]
        }
      ]
    },
    {
      "cell_type": "markdown",
      "source": [
        "### 2. Iterasi Neural Network"
      ],
      "metadata": {
        "id": "UYRQ19wJClFE"
      }
    },
    {
      "cell_type": "code",
      "source": [
        "learning_rate = 0.1\n",
        "answer = []\n",
        "error_array = np.zeros((2,len(data_frame)))\n",
        "for index,baris in data_frame.iterrows():\n",
        "\tW_lama = W\n",
        "\tinput = np.array([[baris.x1],[baris.x2]])\n",
        "\toutput_hidden = np.dot(W_lama,input)\n",
        "\toutput_learn = sigmoid(output_hidden)\n",
        "\toutput_actual = np.array([[baris.y1],[baris.y2]])\n",
        "\n",
        "\terror = output_actual - output_learn\n",
        "\n",
        "\tdelta_W = np.dot(learning_rate*error*output_learn*(1-output_learn),input.T)\n",
        "\n",
        "\tW_baru = W_lama + delta_W\n",
        "\tW = W_baru\n",
        "\n",
        "\terror_array[:,index] = error.T*error.T\n",
        "\n",
        "\ttebakan = np.argmax(output_learn)\n",
        "\tjawaban = np.argmax(output_actual)\n",
        "\n",
        "\tlabel_tebakan = \"ucup\" if tebakan == 1 else \"otong\"\n",
        "\n",
        "\tprint(f\"index = {index}, tebakan = {label_tebakan}, jawaban = {baris.label}\")\n",
        "\n",
        "\tif tebakan == jawaban:\n",
        "\t\tanswer.append(1)\n",
        "\telse:\n",
        "\t\tanswer.append(0)\n",
        "\n"
      ],
      "metadata": {
        "colab": {
          "base_uri": "https://localhost:8080/"
        },
        "id": "q0quSVHVC9Lx",
        "outputId": "9452c16e-8d63-4a66-f61c-9acd35bc78a1"
      },
      "execution_count": 109,
      "outputs": [
        {
          "output_type": "stream",
          "name": "stdout",
          "text": [
            "index = 0, tebakan = otong, jawaban = otong\n",
            "index = 1, tebakan = otong, jawaban = otong\n",
            "index = 2, tebakan = otong, jawaban = otong\n",
            "index = 3, tebakan = otong, jawaban = ucup\n",
            "index = 4, tebakan = otong, jawaban = otong\n",
            "index = 5, tebakan = otong, jawaban = ucup\n",
            "index = 6, tebakan = otong, jawaban = ucup\n",
            "index = 7, tebakan = ucup, jawaban = ucup\n",
            "index = 8, tebakan = ucup, jawaban = otong\n",
            "index = 9, tebakan = otong, jawaban = otong\n",
            "index = 10, tebakan = otong, jawaban = ucup\n",
            "index = 11, tebakan = ucup, jawaban = ucup\n",
            "index = 12, tebakan = ucup, jawaban = otong\n",
            "index = 13, tebakan = otong, jawaban = ucup\n",
            "index = 14, tebakan = otong, jawaban = otong\n",
            "index = 15, tebakan = ucup, jawaban = ucup\n",
            "index = 16, tebakan = ucup, jawaban = ucup\n",
            "index = 17, tebakan = ucup, jawaban = ucup\n",
            "index = 18, tebakan = ucup, jawaban = ucup\n",
            "index = 19, tebakan = ucup, jawaban = otong\n",
            "index = 20, tebakan = otong, jawaban = otong\n",
            "index = 21, tebakan = otong, jawaban = otong\n",
            "index = 22, tebakan = otong, jawaban = otong\n",
            "index = 23, tebakan = otong, jawaban = otong\n",
            "index = 24, tebakan = otong, jawaban = otong\n",
            "index = 25, tebakan = otong, jawaban = otong\n",
            "index = 26, tebakan = otong, jawaban = otong\n",
            "index = 27, tebakan = otong, jawaban = ucup\n",
            "index = 28, tebakan = otong, jawaban = otong\n",
            "index = 29, tebakan = otong, jawaban = otong\n",
            "index = 30, tebakan = otong, jawaban = otong\n",
            "index = 31, tebakan = otong, jawaban = ucup\n",
            "index = 32, tebakan = ucup, jawaban = otong\n",
            "index = 33, tebakan = ucup, jawaban = ucup\n",
            "index = 34, tebakan = otong, jawaban = otong\n",
            "index = 35, tebakan = otong, jawaban = otong\n",
            "index = 36, tebakan = otong, jawaban = otong\n",
            "index = 37, tebakan = ucup, jawaban = ucup\n",
            "index = 38, tebakan = ucup, jawaban = ucup\n",
            "index = 39, tebakan = otong, jawaban = otong\n",
            "index = 40, tebakan = ucup, jawaban = ucup\n",
            "index = 41, tebakan = ucup, jawaban = ucup\n",
            "index = 42, tebakan = otong, jawaban = otong\n",
            "index = 43, tebakan = ucup, jawaban = ucup\n",
            "index = 44, tebakan = ucup, jawaban = ucup\n",
            "index = 45, tebakan = ucup, jawaban = ucup\n",
            "index = 46, tebakan = otong, jawaban = otong\n",
            "index = 47, tebakan = ucup, jawaban = ucup\n",
            "index = 48, tebakan = ucup, jawaban = ucup\n",
            "index = 49, tebakan = otong, jawaban = otong\n",
            "index = 50, tebakan = otong, jawaban = ucup\n",
            "index = 51, tebakan = ucup, jawaban = ucup\n",
            "index = 52, tebakan = ucup, jawaban = ucup\n",
            "index = 53, tebakan = otong, jawaban = otong\n",
            "index = 54, tebakan = otong, jawaban = otong\n",
            "index = 55, tebakan = ucup, jawaban = ucup\n",
            "index = 56, tebakan = ucup, jawaban = ucup\n",
            "index = 57, tebakan = ucup, jawaban = otong\n",
            "index = 58, tebakan = otong, jawaban = ucup\n",
            "index = 59, tebakan = ucup, jawaban = ucup\n",
            "index = 60, tebakan = ucup, jawaban = ucup\n",
            "index = 61, tebakan = ucup, jawaban = ucup\n",
            "index = 62, tebakan = otong, jawaban = otong\n",
            "index = 63, tebakan = otong, jawaban = otong\n",
            "index = 64, tebakan = otong, jawaban = otong\n",
            "index = 65, tebakan = otong, jawaban = otong\n",
            "index = 66, tebakan = ucup, jawaban = ucup\n",
            "index = 67, tebakan = ucup, jawaban = ucup\n",
            "index = 68, tebakan = ucup, jawaban = ucup\n",
            "index = 69, tebakan = otong, jawaban = otong\n",
            "index = 70, tebakan = otong, jawaban = otong\n",
            "index = 71, tebakan = ucup, jawaban = ucup\n",
            "index = 72, tebakan = ucup, jawaban = ucup\n",
            "index = 73, tebakan = otong, jawaban = otong\n",
            "index = 74, tebakan = otong, jawaban = otong\n",
            "index = 75, tebakan = otong, jawaban = otong\n",
            "index = 76, tebakan = otong, jawaban = otong\n",
            "index = 77, tebakan = ucup, jawaban = ucup\n",
            "index = 78, tebakan = otong, jawaban = otong\n",
            "index = 79, tebakan = otong, jawaban = otong\n",
            "index = 80, tebakan = otong, jawaban = otong\n",
            "index = 81, tebakan = otong, jawaban = otong\n",
            "index = 82, tebakan = otong, jawaban = otong\n",
            "index = 83, tebakan = ucup, jawaban = ucup\n",
            "index = 84, tebakan = ucup, jawaban = ucup\n",
            "index = 85, tebakan = ucup, jawaban = ucup\n",
            "index = 86, tebakan = otong, jawaban = otong\n",
            "index = 87, tebakan = otong, jawaban = otong\n",
            "index = 88, tebakan = otong, jawaban = otong\n",
            "index = 89, tebakan = ucup, jawaban = ucup\n",
            "index = 90, tebakan = ucup, jawaban = ucup\n",
            "index = 91, tebakan = ucup, jawaban = ucup\n",
            "index = 92, tebakan = otong, jawaban = otong\n",
            "index = 93, tebakan = otong, jawaban = otong\n",
            "index = 94, tebakan = ucup, jawaban = ucup\n",
            "index = 95, tebakan = ucup, jawaban = ucup\n",
            "index = 96, tebakan = ucup, jawaban = ucup\n",
            "index = 97, tebakan = otong, jawaban = otong\n",
            "index = 98, tebakan = ucup, jawaban = ucup\n",
            "index = 99, tebakan = ucup, jawaban = ucup\n",
            "index = 100, tebakan = otong, jawaban = otong\n",
            "index = 101, tebakan = otong, jawaban = otong\n",
            "index = 102, tebakan = otong, jawaban = otong\n",
            "index = 103, tebakan = ucup, jawaban = ucup\n",
            "index = 104, tebakan = otong, jawaban = otong\n",
            "index = 105, tebakan = otong, jawaban = otong\n",
            "index = 106, tebakan = otong, jawaban = otong\n",
            "index = 107, tebakan = ucup, jawaban = ucup\n",
            "index = 108, tebakan = ucup, jawaban = otong\n",
            "index = 109, tebakan = ucup, jawaban = ucup\n",
            "index = 110, tebakan = otong, jawaban = otong\n",
            "index = 111, tebakan = ucup, jawaban = ucup\n",
            "index = 112, tebakan = ucup, jawaban = ucup\n",
            "index = 113, tebakan = ucup, jawaban = ucup\n",
            "index = 114, tebakan = ucup, jawaban = ucup\n",
            "index = 115, tebakan = ucup, jawaban = ucup\n",
            "index = 116, tebakan = otong, jawaban = otong\n",
            "index = 117, tebakan = otong, jawaban = otong\n",
            "index = 118, tebakan = ucup, jawaban = ucup\n",
            "index = 119, tebakan = ucup, jawaban = ucup\n",
            "index = 120, tebakan = otong, jawaban = otong\n",
            "index = 121, tebakan = ucup, jawaban = ucup\n",
            "index = 122, tebakan = ucup, jawaban = ucup\n",
            "index = 123, tebakan = otong, jawaban = otong\n",
            "index = 124, tebakan = ucup, jawaban = ucup\n",
            "index = 125, tebakan = otong, jawaban = otong\n",
            "index = 126, tebakan = otong, jawaban = otong\n",
            "index = 127, tebakan = ucup, jawaban = ucup\n",
            "index = 128, tebakan = otong, jawaban = otong\n",
            "index = 129, tebakan = otong, jawaban = otong\n",
            "index = 130, tebakan = ucup, jawaban = ucup\n",
            "index = 131, tebakan = otong, jawaban = otong\n",
            "index = 132, tebakan = otong, jawaban = otong\n",
            "index = 133, tebakan = otong, jawaban = otong\n",
            "index = 134, tebakan = ucup, jawaban = ucup\n",
            "index = 135, tebakan = otong, jawaban = otong\n",
            "index = 136, tebakan = otong, jawaban = otong\n",
            "index = 137, tebakan = otong, jawaban = otong\n",
            "index = 138, tebakan = ucup, jawaban = ucup\n",
            "index = 139, tebakan = otong, jawaban = otong\n",
            "index = 140, tebakan = ucup, jawaban = ucup\n",
            "index = 141, tebakan = ucup, jawaban = ucup\n",
            "index = 142, tebakan = otong, jawaban = otong\n",
            "index = 143, tebakan = ucup, jawaban = ucup\n",
            "index = 144, tebakan = otong, jawaban = otong\n",
            "index = 145, tebakan = otong, jawaban = otong\n",
            "index = 146, tebakan = ucup, jawaban = ucup\n",
            "index = 147, tebakan = ucup, jawaban = ucup\n",
            "index = 148, tebakan = otong, jawaban = otong\n",
            "index = 149, tebakan = ucup, jawaban = ucup\n",
            "index = 150, tebakan = ucup, jawaban = ucup\n",
            "index = 151, tebakan = otong, jawaban = otong\n",
            "index = 152, tebakan = ucup, jawaban = ucup\n",
            "index = 153, tebakan = otong, jawaban = otong\n",
            "index = 154, tebakan = ucup, jawaban = ucup\n",
            "index = 155, tebakan = otong, jawaban = otong\n",
            "index = 156, tebakan = otong, jawaban = otong\n",
            "index = 157, tebakan = otong, jawaban = otong\n",
            "index = 158, tebakan = ucup, jawaban = ucup\n",
            "index = 159, tebakan = otong, jawaban = otong\n",
            "index = 160, tebakan = otong, jawaban = otong\n",
            "index = 161, tebakan = ucup, jawaban = ucup\n",
            "index = 162, tebakan = otong, jawaban = otong\n",
            "index = 163, tebakan = ucup, jawaban = ucup\n",
            "index = 164, tebakan = ucup, jawaban = ucup\n",
            "index = 165, tebakan = otong, jawaban = otong\n",
            "index = 166, tebakan = otong, jawaban = otong\n",
            "index = 167, tebakan = ucup, jawaban = ucup\n",
            "index = 168, tebakan = ucup, jawaban = ucup\n",
            "index = 169, tebakan = ucup, jawaban = ucup\n",
            "index = 170, tebakan = ucup, jawaban = ucup\n",
            "index = 171, tebakan = ucup, jawaban = ucup\n",
            "index = 172, tebakan = ucup, jawaban = ucup\n",
            "index = 173, tebakan = otong, jawaban = otong\n",
            "index = 174, tebakan = ucup, jawaban = ucup\n",
            "index = 175, tebakan = ucup, jawaban = ucup\n",
            "index = 176, tebakan = ucup, jawaban = ucup\n",
            "index = 177, tebakan = otong, jawaban = otong\n",
            "index = 178, tebakan = otong, jawaban = otong\n",
            "index = 179, tebakan = otong, jawaban = otong\n",
            "index = 180, tebakan = ucup, jawaban = ucup\n",
            "index = 181, tebakan = ucup, jawaban = ucup\n",
            "index = 182, tebakan = otong, jawaban = otong\n",
            "index = 183, tebakan = ucup, jawaban = ucup\n",
            "index = 184, tebakan = otong, jawaban = otong\n",
            "index = 185, tebakan = otong, jawaban = otong\n",
            "index = 186, tebakan = otong, jawaban = otong\n",
            "index = 187, tebakan = ucup, jawaban = ucup\n",
            "index = 188, tebakan = ucup, jawaban = ucup\n",
            "index = 189, tebakan = ucup, jawaban = ucup\n",
            "index = 190, tebakan = otong, jawaban = otong\n",
            "index = 191, tebakan = ucup, jawaban = ucup\n",
            "index = 192, tebakan = otong, jawaban = otong\n",
            "index = 193, tebakan = ucup, jawaban = ucup\n",
            "index = 194, tebakan = ucup, jawaban = ucup\n",
            "index = 195, tebakan = ucup, jawaban = ucup\n",
            "index = 196, tebakan = otong, jawaban = otong\n",
            "index = 197, tebakan = ucup, jawaban = ucup\n"
          ]
        }
      ]
    },
    {
      "cell_type": "code",
      "source": [
        "plt.plot(error_array.T)"
      ],
      "metadata": {
        "colab": {
          "base_uri": "https://localhost:8080/",
          "height": 465
        },
        "id": "wQzZqendKiD5",
        "outputId": "6b6e7494-36f0-4f20-d8c2-8ef1700094a5"
      },
      "execution_count": 110,
      "outputs": [
        {
          "output_type": "execute_result",
          "data": {
            "text/plain": [
              "[<matplotlib.lines.Line2D at 0x7825182f5630>,\n",
              " <matplotlib.lines.Line2D at 0x7825182f6c50>]"
            ]
          },
          "metadata": {},
          "execution_count": 110
        },
        {
          "output_type": "display_data",
          "data": {
            "text/plain": [
              "<Figure size 640x480 with 1 Axes>"
            ],
            "image/png": "[encoded data removed]"
          },
          "metadata": {}
        }
      ]
    },
    {
      "cell_type": "code",
      "source": [
        "plt.plot(answer)"
      ],
      "metadata": {
        "colab": {
          "base_uri": "https://localhost:8080/",
          "height": 447
        },
        "id": "91RmRdZDW87a",
        "outputId": "5ce49747-25af-43c8-d3c0-e61d45d92b73"
      },
      "execution_count": 111,
      "outputs": [
        {
          "output_type": "execute_result",
          "data": {
            "text/plain": [
              "[<matplotlib.lines.Line2D at 0x78251853a020>]"
            ]
          },
          "metadata": {},
          "execution_count": 111
        },
        {
          "output_type": "display_data",
          "data": {
            "text/plain": [
              "<Figure size 640x480 with 1 Axes>"
            ],
            "image/png": "[encoded data removed]"
          },
          "metadata": {}
        }
      ]
    },
    {
      "cell_type": "code",
      "source": [
        "x1 = 19\n",
        "x2 = 3\n",
        "\n",
        "input = np.array([[x1],[x2]])\n",
        "output_hidden = np.dot(W,input)\n",
        "output_prediction = sigmoid(output_hidden)\n",
        "\n",
        "prediction = np.argmax(output_prediction)\n",
        "\n",
        "label_prediction = \"ucup\" if prediction == 1 else \"otong\"\n",
        "\n",
        "print(f\"tinggi = {x1*10}, berat = {x2*10}, adalah {label_prediction}\")"
      ],
      "metadata": {
        "colab": {
          "base_uri": "https://localhost:8080/"
        },
        "id": "XFeSiJuEXBbk",
        "outputId": "b7017a50-f6fb-4b77-cb9a-4782125f7e4b"
      },
      "execution_count": 112,
      "outputs": [
        {
          "output_type": "stream",
          "name": "stdout",
          "text": [
            "tinggi = 190, berat = 30, adalah otong\n"
          ]
        }
      ]
    }
  ]
}